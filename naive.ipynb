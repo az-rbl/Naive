{
 "cells": [
  {
   "cell_type": "markdown",
   "metadata": {},
   "source": [
    "# Bayes Ingenuo\n",
    "Probablemente, el modelo de red bayesiana más utilizado en el aprendizaje automático es el modelo Bayes ingenuo. En este modelo, la variable \"clase\" C (que debe predecirse) es la raíz y las variables \"atributo\" Xi son las hojas. El modelo es \"ingenuo\" porque supone que los atributos son condicionalmente independientes entre sí, dada la clase. . En el caso de las variables booleanas, los parámetros son:\n",
    "\n",
    "$θ=P(C=true),θi1 =P(Xi =true|C=true),θi2 =P(Xi =true|C=false)$\n",
    "\n",
    "<img src=\"1.png\">\n",
    "\n",
    "\n",
    "\n",
    "\n",
    "\n"
   ]
  },
  {
   "cell_type": "markdown",
   "metadata": {},
   "source": [
    " Una vez entrenado el modelo de este modo, puede utilizarse para clasificar nuevos ejemplos para los que la variable de clase C no se ha observado. Con los valores de atributos observados x1,...,xn, la probabilidad de cada clase viene dada por:\n",
    "\n",
    "$P(C|x_1,...,x_n) = α P(C)∏\n",
    "_i\n",
    "P(x_i |C).$"
   ]
  },
  {
   "cell_type": "markdown",
   "metadata": {},
   "source": [
    "El aprendizaje de Bayes ingenuo resulta ser sorprendentemente bueno en una amplia gama de aplicaciones; la versión reforzada es uno de los algoritmos de aprendizaje de propósito general más eficaces. El aprendizaje de Bayes ingenuo se adapta bien a problemas muy grandes: con n atributos booleanos, sólo hay 2n + 1 parámetros, y no es necesario buscar para encontrar hML, la hipótesis de Bayes ingenuo de máxima probabilidad. Por último, los sistemas de aprendizaje de Bayes ingenuo se manejan bien con los datos ruidosos o ausentes y pueden ofrecer predicciones probabilísticas cuando es necesario. Su principal inconveniente es el hecho de que la suposición de independencia condicional rara vez es precisa la suposición conduce a probabilidades excesivamente confiadas que a menudo están muy cerca de 0 o 1, especialmente con un gran número de atributos."
   ]
  },
  {
   "cell_type": "markdown",
   "metadata": {},
   "source": [
    "#Breast Cancer Wisconsin (Diagnostic) Data Set\n"
   ]
  },
  {
   "cell_type": "code",
   "execution_count": 13,
   "metadata": {},
   "outputs": [
    {
     "name": "stdout",
     "output_type": "stream",
     "text": [
      "['malignant' 'benign']\n",
      "0\n",
      "['mean radius' 'mean texture' 'mean perimeter' 'mean area'\n",
      " 'mean smoothness' 'mean compactness' 'mean concavity'\n",
      " 'mean concave points' 'mean symmetry' 'mean fractal dimension'\n",
      " 'radius error' 'texture error' 'perimeter error' 'area error'\n",
      " 'smoothness error' 'compactness error' 'concavity error'\n",
      " 'concave points error' 'symmetry error' 'fractal dimension error'\n",
      " 'worst radius' 'worst texture' 'worst perimeter' 'worst area'\n",
      " 'worst smoothness' 'worst compactness' 'worst concavity'\n",
      " 'worst concave points' 'worst symmetry' 'worst fractal dimension']\n",
      "[1.799e+01 1.038e+01 1.228e+02 1.001e+03 1.184e-01 2.776e-01 3.001e-01\n",
      " 1.471e-01 2.419e-01 7.871e-02 1.095e+00 9.053e-01 8.589e+00 1.534e+02\n",
      " 6.399e-03 4.904e-02 5.373e-02 1.587e-02 3.003e-02 6.193e-03 2.538e+01\n",
      " 1.733e+01 1.846e+02 2.019e+03 1.622e-01 6.656e-01 7.119e-01 2.654e-01\n",
      " 4.601e-01 1.189e-01]\n"
     ]
    }
   ],
   "source": [
    "import sklearn\n",
    "from sklearn.datasets import load_breast_cancer\n",
    "from sklearn.model_selection import train_test_split\n",
    "data = load_breast_cancer()\n",
    "label_names = data['target_names']\n",
    "labels = data['target']\n",
    "feature_names = data['feature_names']\n",
    "features = data['data']\n",
    "print(label_names)\n",
    "print(labels[0])\n",
    "print(feature_names)\n",
    "print(features[0])\n"
   ]
  },
  {
   "cell_type": "code",
   "execution_count": 14,
   "metadata": {},
   "outputs": [
    {
     "name": "stdout",
     "output_type": "stream",
     "text": [
      "Clasificados incorrectamente de un total de 228  : 11\n",
      "[1 0 0 1 1 0 0 0 1 1 1 0 1 0 1 0 1 1 1 0 1 1 0 1 1 1 1 1 1 0 1 1 1 1 1 1 0\n",
      " 1 0 1 1 0 1 1 1 1 1 1 1 1 0 0 1 1 1 1 1 0 0 1 1 0 0 1 1 1 0 0 1 1 0 0 1 0\n",
      " 1 1 1 1 1 1 0 1 1 0 0 0 0 0 1 1 1 1 1 1 1 1 0 0 1 0 0 1 0 0 1 1 1 0 1 1 0\n",
      " 1 1 0 0 0 1 1 1 0 0 1 1 0 1 0 0 1 1 0 0 0 1 1 1 0 1 1 0 0 1 0 1 1 0 1 0 0\n",
      " 1 1 1 1 1 1 1 0 0 1 1 1 1 1 1 1 1 1 1 1 1 0 1 1 1 0 1 1 0 1 1 1 1 1 1 0 0\n",
      " 0 1 1 0 1 0 1 1 1 1 0 1 1 0 1 1 1 0 1 0 0 1 1 1 1 1 1 1 1 0 1 1 1 1 1 0 1\n",
      " 0 0 1 1 0 1]\n"
     ]
    }
   ],
   "source": [
    "train, test, train_labels, test_labels = train_test_split(\n",
    "   features,labels,test_size = 0.40, random_state = 42\n",
    ")\n",
    "from sklearn.naive_bayes import GaussianNB\n",
    "GNBclf = GaussianNB()\n",
    "model = GNBclf.fit(train, train_labels)\n",
    "preds = GNBclf.predict(test)\n",
    "print(\"Clasificados incorrectamente de un total de %d  : %d\"% (test.shape[0], (test_labels != preds).sum()))\n",
    "print(preds)"
   ]
  }
 ],
 "metadata": {
  "kernelspec": {
   "display_name": "Python 3.8.5 ('base')",
   "language": "python",
   "name": "python3"
  },
  "language_info": {
   "codemirror_mode": {
    "name": "ipython",
    "version": 3
   },
   "file_extension": ".py",
   "mimetype": "text/x-python",
   "name": "python",
   "nbconvert_exporter": "python",
   "pygments_lexer": "ipython3",
   "version": "3.8.5"
  },
  "orig_nbformat": 4,
  "vscode": {
   "interpreter": {
    "hash": "68b6800bcf3cec0c8599dbf42ccdf0be9efef46ebc15764657b77cc64e7f4a7a"
   }
  }
 },
 "nbformat": 4,
 "nbformat_minor": 2
}
